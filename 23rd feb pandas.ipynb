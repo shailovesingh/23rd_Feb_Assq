{
 "cells": [
  {
   "cell_type": "code",
   "execution_count": 5,
   "id": "7942efa4-4b8a-4e1d-b67e-d89872443ed5",
   "metadata": {},
   "outputs": [],
   "source": [
    "import pandas as pd"
   ]
  },
  {
   "cell_type": "markdown",
   "id": "6700192f-b9ea-4258-80fe-de19166dbaaf",
   "metadata": {},
   "source": [
    "Q1. Create a Pandas Series that contains the following data: 4, 8, 15, 16, 23, and 42. Then, print the series"
   ]
  },
  {
   "cell_type": "code",
   "execution_count": 6,
   "id": "e05581fe-64a4-4064-97c3-cd3c590eaafa",
   "metadata": {},
   "outputs": [],
   "source": [
    "series=[4,8,15,16,23,42]"
   ]
  },
  {
   "cell_type": "code",
   "execution_count": 7,
   "id": "f03694ae-2109-4030-bbfb-48d5c3b47136",
   "metadata": {},
   "outputs": [],
   "source": [
    "result = pd.Series(series)"
   ]
  },
  {
   "cell_type": "code",
   "execution_count": 8,
   "id": "39e238e3-ba49-40a2-b53e-80ad583348cc",
   "metadata": {},
   "outputs": [
    {
     "name": "stdout",
     "output_type": "stream",
     "text": [
      "0     4\n",
      "1     8\n",
      "2    15\n",
      "3    16\n",
      "4    23\n",
      "5    42\n",
      "dtype: int64\n"
     ]
    }
   ],
   "source": [
    "print(result)"
   ]
  },
  {
   "cell_type": "markdown",
   "id": "9cd34731-4454-4c6e-a077-8b3afbaff71c",
   "metadata": {},
   "source": [
    "Q2"
   ]
  },
  {
   "cell_type": "code",
   "execution_count": 9,
   "id": "41fdad5d-aa25-4766-b86e-6eb202164957",
   "metadata": {},
   "outputs": [],
   "source": [
    "var = [1,2,3,4,5,6,7,8,9,10]"
   ]
  },
  {
   "cell_type": "code",
   "execution_count": 10,
   "id": "079dc077-0196-4f6c-b6e5-82bb90b161d3",
   "metadata": {},
   "outputs": [],
   "source": [
    "result1 = pd.Series(var)"
   ]
  },
  {
   "cell_type": "code",
   "execution_count": 11,
   "id": "91dcadd3-e3cf-426d-8d1d-d2f34d6bb0cc",
   "metadata": {},
   "outputs": [
    {
     "name": "stdout",
     "output_type": "stream",
     "text": [
      "0     1\n",
      "1     2\n",
      "2     3\n",
      "3     4\n",
      "4     5\n",
      "5     6\n",
      "6     7\n",
      "7     8\n",
      "8     9\n",
      "9    10\n",
      "dtype: int64\n"
     ]
    }
   ],
   "source": [
    "print(result1)"
   ]
  },
  {
   "cell_type": "markdown",
   "id": "d0cba41f-827d-4c22-86d9-7009373a9980",
   "metadata": {},
   "source": [
    "Q3."
   ]
  },
  {
   "cell_type": "code",
   "execution_count": 12,
   "id": "b78f598c-38f6-4353-bbe7-01a472a4742b",
   "metadata": {},
   "outputs": [],
   "source": [
    "data = {'Name' : ['Alice' , 'Bob' , 'Claire'],\n",
    "        'Age' : [25,30,27],\n",
    "        'Gender' : ['female' , 'Male' , 'female']} "
   ]
  },
  {
   "cell_type": "code",
   "execution_count": 13,
   "id": "24a6302c-b75b-4363-848d-6f584a0ba177",
   "metadata": {},
   "outputs": [],
   "source": [
    "result3 = pd.DataFrame(data)"
   ]
  },
  {
   "cell_type": "code",
   "execution_count": 14,
   "id": "ddd4f3c2-fdd8-438d-bcc3-48a16de1edb5",
   "metadata": {},
   "outputs": [
    {
     "data": {
      "text/html": [
       "<div>\n",
       "<style scoped>\n",
       "    .dataframe tbody tr th:only-of-type {\n",
       "        vertical-align: middle;\n",
       "    }\n",
       "\n",
       "    .dataframe tbody tr th {\n",
       "        vertical-align: top;\n",
       "    }\n",
       "\n",
       "    .dataframe thead th {\n",
       "        text-align: right;\n",
       "    }\n",
       "</style>\n",
       "<table border=\"1\" class=\"dataframe\">\n",
       "  <thead>\n",
       "    <tr style=\"text-align: right;\">\n",
       "      <th></th>\n",
       "      <th>Name</th>\n",
       "      <th>Age</th>\n",
       "      <th>Gender</th>\n",
       "    </tr>\n",
       "  </thead>\n",
       "  <tbody>\n",
       "    <tr>\n",
       "      <th>0</th>\n",
       "      <td>Alice</td>\n",
       "      <td>25</td>\n",
       "      <td>female</td>\n",
       "    </tr>\n",
       "    <tr>\n",
       "      <th>1</th>\n",
       "      <td>Bob</td>\n",
       "      <td>30</td>\n",
       "      <td>Male</td>\n",
       "    </tr>\n",
       "    <tr>\n",
       "      <th>2</th>\n",
       "      <td>Claire</td>\n",
       "      <td>27</td>\n",
       "      <td>female</td>\n",
       "    </tr>\n",
       "  </tbody>\n",
       "</table>\n",
       "</div>"
      ],
      "text/plain": [
       "     Name  Age  Gender\n",
       "0   Alice   25  female\n",
       "1     Bob   30    Male\n",
       "2  Claire   27  female"
      ]
     },
     "execution_count": 14,
     "metadata": {},
     "output_type": "execute_result"
    }
   ],
   "source": [
    "result3"
   ]
  },
  {
   "cell_type": "markdown",
   "id": "3d13821a-2b5d-4408-b851-933fe29c2ca2",
   "metadata": {},
   "source": [
    "Q4."
   ]
  },
  {
   "cell_type": "markdown",
   "id": "dc4d07e4-de87-4720-bda3-ef8c0cc563c5",
   "metadata": {},
   "source": [
    "What is ‘DataFrame’ in pandas and how is it different from pandas.series? Explain with an example.\n",
    "\n",
    "DataFrame is a two-dimensional size mutable, potentially heterogeneous tabular data structure with labeled axes(rows and columns). Here data is aligned in a tabular fashion in rows and columns like in excel or SQL. Each column can contain different-different types of data types like string(object), int ,etc\n",
    "\n",
    "Series is one dimensional labeled array in which one one paticular data type data holds. Means that it is homogeneous.It is similar to one column in dataframe."
   ]
  },
  {
   "cell_type": "code",
   "execution_count": 15,
   "id": "e5de3e6f-ecba-4d3d-9fae-e0d42487545b",
   "metadata": {},
   "outputs": [],
   "source": [
    "data = {\"Batch\": 'Datascience masters',\n",
    "        \"Faculty\": [\"Sudh sir\",\"Krish sir\"],\n",
    "        \"Timing\":8.00\n",
    "        }"
   ]
  },
  {
   "cell_type": "code",
   "execution_count": 16,
   "id": "7e84afc8-a141-4f6c-8e5b-4e389af69280",
   "metadata": {},
   "outputs": [
    {
     "data": {
      "text/html": [
       "<div>\n",
       "<style scoped>\n",
       "    .dataframe tbody tr th:only-of-type {\n",
       "        vertical-align: middle;\n",
       "    }\n",
       "\n",
       "    .dataframe tbody tr th {\n",
       "        vertical-align: top;\n",
       "    }\n",
       "\n",
       "    .dataframe thead th {\n",
       "        text-align: right;\n",
       "    }\n",
       "</style>\n",
       "<table border=\"1\" class=\"dataframe\">\n",
       "  <thead>\n",
       "    <tr style=\"text-align: right;\">\n",
       "      <th></th>\n",
       "      <th>Batch</th>\n",
       "      <th>Faculty</th>\n",
       "      <th>Timing</th>\n",
       "    </tr>\n",
       "  </thead>\n",
       "  <tbody>\n",
       "    <tr>\n",
       "      <th>0</th>\n",
       "      <td>Datascience masters</td>\n",
       "      <td>Sudh sir</td>\n",
       "      <td>8.0</td>\n",
       "    </tr>\n",
       "    <tr>\n",
       "      <th>1</th>\n",
       "      <td>Datascience masters</td>\n",
       "      <td>Krish sir</td>\n",
       "      <td>8.0</td>\n",
       "    </tr>\n",
       "  </tbody>\n",
       "</table>\n",
       "</div>"
      ],
      "text/plain": [
       "                 Batch    Faculty  Timing\n",
       "0  Datascience masters   Sudh sir     8.0\n",
       "1  Datascience masters  Krish sir     8.0"
      ]
     },
     "execution_count": 16,
     "metadata": {},
     "output_type": "execute_result"
    }
   ],
   "source": [
    "dataframe = pd.DataFrame(data)\n",
    "dataframe"
   ]
  },
  {
   "cell_type": "code",
   "execution_count": 17,
   "id": "8bc7a313-b88d-4218-91cd-97ac5cbf8edd",
   "metadata": {},
   "outputs": [
    {
     "data": {
      "text/plain": [
       "Batch        Datascience masters\n",
       "Faculty    [Sudh sir, Krish sir]\n",
       "Timing                       8.0\n",
       "dtype: object"
      ]
     },
     "execution_count": 17,
     "metadata": {},
     "output_type": "execute_result"
    }
   ],
   "source": [
    "Series = pd.Series(data)\n",
    "Series"
   ]
  },
  {
   "cell_type": "markdown",
   "id": "1c2e0fa6-6b31-4546-9eab-4c87c0481f6a",
   "metadata": {},
   "source": [
    "Q5."
   ]
  },
  {
   "cell_type": "code",
   "execution_count": 18,
   "id": "01cb7e7b-b1ad-4c54-a596-6ac788d91e46",
   "metadata": {},
   "outputs": [],
   "source": [
    "data = {\n",
    "        'Name': ['Alice','Bob','Claire'],\n",
    "        'Age' : [25,30,27],\n",
    "        'Gender' : ['Female','Male','Femaile'],\n",
    "        'Hobby' : [\"Basketball\",\"Cricket\",\"Volleyball\"]}"
   ]
  },
  {
   "cell_type": "code",
   "execution_count": 19,
   "id": "a0653223-4e4c-4000-a619-9513ea33ec71",
   "metadata": {},
   "outputs": [],
   "source": [
    "df = pd.DataFrame(data)"
   ]
  },
  {
   "cell_type": "code",
   "execution_count": 20,
   "id": "ba596ede-d9d8-4525-95f6-6dc8a122b66c",
   "metadata": {},
   "outputs": [
    {
     "data": {
      "text/html": [
       "<div>\n",
       "<style scoped>\n",
       "    .dataframe tbody tr th:only-of-type {\n",
       "        vertical-align: middle;\n",
       "    }\n",
       "\n",
       "    .dataframe tbody tr th {\n",
       "        vertical-align: top;\n",
       "    }\n",
       "\n",
       "    .dataframe thead th {\n",
       "        text-align: right;\n",
       "    }\n",
       "</style>\n",
       "<table border=\"1\" class=\"dataframe\">\n",
       "  <thead>\n",
       "    <tr style=\"text-align: right;\">\n",
       "      <th></th>\n",
       "      <th>Name</th>\n",
       "      <th>Age</th>\n",
       "      <th>Gender</th>\n",
       "      <th>Hobby</th>\n",
       "    </tr>\n",
       "  </thead>\n",
       "  <tbody>\n",
       "    <tr>\n",
       "      <th>0</th>\n",
       "      <td>Alice</td>\n",
       "      <td>25</td>\n",
       "      <td>Female</td>\n",
       "      <td>Basketball</td>\n",
       "    </tr>\n",
       "    <tr>\n",
       "      <th>1</th>\n",
       "      <td>Bob</td>\n",
       "      <td>30</td>\n",
       "      <td>Male</td>\n",
       "      <td>Cricket</td>\n",
       "    </tr>\n",
       "    <tr>\n",
       "      <th>2</th>\n",
       "      <td>Claire</td>\n",
       "      <td>27</td>\n",
       "      <td>Femaile</td>\n",
       "      <td>Volleyball</td>\n",
       "    </tr>\n",
       "  </tbody>\n",
       "</table>\n",
       "</div>"
      ],
      "text/plain": [
       "     Name  Age   Gender       Hobby\n",
       "0   Alice   25   Female  Basketball\n",
       "1     Bob   30     Male     Cricket\n",
       "2  Claire   27  Femaile  Volleyball"
      ]
     },
     "execution_count": 20,
     "metadata": {},
     "output_type": "execute_result"
    }
   ],
   "source": [
    "df"
   ]
  },
  {
   "cell_type": "markdown",
   "id": "57e1c8e4-4904-42cb-8abd-23cc392a6789",
   "metadata": {},
   "source": [
    "Common functions like:\n",
    "\n",
    "1. df.columns -- it shows the column names in dataframe\n",
    "2. df.dtypes -- it shows the data type of a particular columns\n",
    "3. df.head() -- it shows the first five records in a dataset\n",
    "4. df.tail() -- it shows the last five record in a dataset\n",
    "5. describe() -- provide summary of records in statiscal way"
   ]
  },
  {
   "cell_type": "code",
   "execution_count": 21,
   "id": "cfb377dc-38cb-4103-88dd-9d3fccb8a8f2",
   "metadata": {},
   "outputs": [
    {
     "data": {
      "text/html": [
       "<div>\n",
       "<style scoped>\n",
       "    .dataframe tbody tr th:only-of-type {\n",
       "        vertical-align: middle;\n",
       "    }\n",
       "\n",
       "    .dataframe tbody tr th {\n",
       "        vertical-align: top;\n",
       "    }\n",
       "\n",
       "    .dataframe thead th {\n",
       "        text-align: right;\n",
       "    }\n",
       "</style>\n",
       "<table border=\"1\" class=\"dataframe\">\n",
       "  <thead>\n",
       "    <tr style=\"text-align: right;\">\n",
       "      <th></th>\n",
       "      <th>Name</th>\n",
       "      <th>Age</th>\n",
       "      <th>Gender</th>\n",
       "      <th>Hobby</th>\n",
       "    </tr>\n",
       "  </thead>\n",
       "  <tbody>\n",
       "    <tr>\n",
       "      <th>0</th>\n",
       "      <td>Alice</td>\n",
       "      <td>25</td>\n",
       "      <td>Female</td>\n",
       "      <td>Basketball</td>\n",
       "    </tr>\n",
       "    <tr>\n",
       "      <th>1</th>\n",
       "      <td>Bob</td>\n",
       "      <td>30</td>\n",
       "      <td>Male</td>\n",
       "      <td>Cricket</td>\n",
       "    </tr>\n",
       "    <tr>\n",
       "      <th>2</th>\n",
       "      <td>Claire</td>\n",
       "      <td>27</td>\n",
       "      <td>Femaile</td>\n",
       "      <td>Volleyball</td>\n",
       "    </tr>\n",
       "  </tbody>\n",
       "</table>\n",
       "</div>"
      ],
      "text/plain": [
       "     Name  Age   Gender       Hobby\n",
       "0   Alice   25   Female  Basketball\n",
       "1     Bob   30     Male     Cricket\n",
       "2  Claire   27  Femaile  Volleyball"
      ]
     },
     "execution_count": 21,
     "metadata": {},
     "output_type": "execute_result"
    }
   ],
   "source": [
    " df.head()"
   ]
  },
  {
   "cell_type": "code",
   "execution_count": 22,
   "id": "1f180225-9237-479e-957f-8e9af023fb20",
   "metadata": {},
   "outputs": [
    {
     "data": {
      "text/html": [
       "<div>\n",
       "<style scoped>\n",
       "    .dataframe tbody tr th:only-of-type {\n",
       "        vertical-align: middle;\n",
       "    }\n",
       "\n",
       "    .dataframe tbody tr th {\n",
       "        vertical-align: top;\n",
       "    }\n",
       "\n",
       "    .dataframe thead th {\n",
       "        text-align: right;\n",
       "    }\n",
       "</style>\n",
       "<table border=\"1\" class=\"dataframe\">\n",
       "  <thead>\n",
       "    <tr style=\"text-align: right;\">\n",
       "      <th></th>\n",
       "      <th>Name</th>\n",
       "      <th>Age</th>\n",
       "      <th>Gender</th>\n",
       "      <th>Hobby</th>\n",
       "    </tr>\n",
       "  </thead>\n",
       "  <tbody>\n",
       "    <tr>\n",
       "      <th>0</th>\n",
       "      <td>Alice</td>\n",
       "      <td>25</td>\n",
       "      <td>Female</td>\n",
       "      <td>Basketball</td>\n",
       "    </tr>\n",
       "    <tr>\n",
       "      <th>1</th>\n",
       "      <td>Bob</td>\n",
       "      <td>30</td>\n",
       "      <td>Male</td>\n",
       "      <td>Cricket</td>\n",
       "    </tr>\n",
       "    <tr>\n",
       "      <th>2</th>\n",
       "      <td>Claire</td>\n",
       "      <td>27</td>\n",
       "      <td>Femaile</td>\n",
       "      <td>Volleyball</td>\n",
       "    </tr>\n",
       "  </tbody>\n",
       "</table>\n",
       "</div>"
      ],
      "text/plain": [
       "     Name  Age   Gender       Hobby\n",
       "0   Alice   25   Female  Basketball\n",
       "1     Bob   30     Male     Cricket\n",
       "2  Claire   27  Femaile  Volleyball"
      ]
     },
     "execution_count": 22,
     "metadata": {},
     "output_type": "execute_result"
    }
   ],
   "source": [
    "df.tail()"
   ]
  },
  {
   "cell_type": "code",
   "execution_count": 24,
   "id": "40f2b8f6-702f-48cd-8bb2-9af564054827",
   "metadata": {},
   "outputs": [
    {
     "data": {
      "text/html": [
       "<div>\n",
       "<style scoped>\n",
       "    .dataframe tbody tr th:only-of-type {\n",
       "        vertical-align: middle;\n",
       "    }\n",
       "\n",
       "    .dataframe tbody tr th {\n",
       "        vertical-align: top;\n",
       "    }\n",
       "\n",
       "    .dataframe thead th {\n",
       "        text-align: right;\n",
       "    }\n",
       "</style>\n",
       "<table border=\"1\" class=\"dataframe\">\n",
       "  <thead>\n",
       "    <tr style=\"text-align: right;\">\n",
       "      <th></th>\n",
       "      <th>Age</th>\n",
       "    </tr>\n",
       "  </thead>\n",
       "  <tbody>\n",
       "    <tr>\n",
       "      <th>count</th>\n",
       "      <td>3.000000</td>\n",
       "    </tr>\n",
       "    <tr>\n",
       "      <th>mean</th>\n",
       "      <td>27.333333</td>\n",
       "    </tr>\n",
       "    <tr>\n",
       "      <th>std</th>\n",
       "      <td>2.516611</td>\n",
       "    </tr>\n",
       "    <tr>\n",
       "      <th>min</th>\n",
       "      <td>25.000000</td>\n",
       "    </tr>\n",
       "    <tr>\n",
       "      <th>25%</th>\n",
       "      <td>26.000000</td>\n",
       "    </tr>\n",
       "    <tr>\n",
       "      <th>50%</th>\n",
       "      <td>27.000000</td>\n",
       "    </tr>\n",
       "    <tr>\n",
       "      <th>75%</th>\n",
       "      <td>28.500000</td>\n",
       "    </tr>\n",
       "    <tr>\n",
       "      <th>max</th>\n",
       "      <td>30.000000</td>\n",
       "    </tr>\n",
       "  </tbody>\n",
       "</table>\n",
       "</div>"
      ],
      "text/plain": [
       "             Age\n",
       "count   3.000000\n",
       "mean   27.333333\n",
       "std     2.516611\n",
       "min    25.000000\n",
       "25%    26.000000\n",
       "50%    27.000000\n",
       "75%    28.500000\n",
       "max    30.000000"
      ]
     },
     "execution_count": 24,
     "metadata": {},
     "output_type": "execute_result"
    }
   ],
   "source": [
    "df.describe()"
   ]
  },
  {
   "cell_type": "markdown",
   "id": "578f3ce1-1644-4574-8588-d995e81d4bc7",
   "metadata": {},
   "source": [
    "Q6. Which of the following is mutable in nature Series, DataFrame, Panel?\n",
    "\n",
    "Series --\n",
    "Size of the series is immutable but values of data is mutable\n",
    "\n",
    "Dataframe --\n",
    "Here both data and size if dataframe are mutable\n",
    "\n",
    "Panel --\n",
    "Panel is a 3D data stucture with heterogeneous data and Here Size and Data are both mutable"
   ]
  },
  {
   "cell_type": "code",
   "execution_count": null,
   "id": "6f41bf60-8d36-4eae-8e5a-cef9dce2ae54",
   "metadata": {},
   "outputs": [],
   "source": [
    "***Q7. Create a DataFrame using multiple Series. Explain with an example.***"
   ]
  },
  {
   "cell_type": "code",
   "execution_count": 26,
   "id": "5e41ac82-3d77-457a-a16a-3b46d81acdd0",
   "metadata": {},
   "outputs": [],
   "source": [
    "data1 = { 'Name' : ['Shailove' , 'yash' , 'Prajwal'],\n",
    "         'Age' : ['22', '50' , '70'],\n",
    "         'Gender' : ['Male' , 'Homo', 'Female']}"
   ]
  },
  {
   "cell_type": "code",
   "execution_count": 27,
   "id": "cf475763-14fb-4156-a0f7-045c4d78ccfe",
   "metadata": {},
   "outputs": [],
   "source": [
    "df = pd.DataFrame(data1)"
   ]
  },
  {
   "cell_type": "code",
   "execution_count": 28,
   "id": "a856d599-02b5-4e29-8fdb-2caa4a8318e1",
   "metadata": {},
   "outputs": [
    {
     "data": {
      "text/html": [
       "<div>\n",
       "<style scoped>\n",
       "    .dataframe tbody tr th:only-of-type {\n",
       "        vertical-align: middle;\n",
       "    }\n",
       "\n",
       "    .dataframe tbody tr th {\n",
       "        vertical-align: top;\n",
       "    }\n",
       "\n",
       "    .dataframe thead th {\n",
       "        text-align: right;\n",
       "    }\n",
       "</style>\n",
       "<table border=\"1\" class=\"dataframe\">\n",
       "  <thead>\n",
       "    <tr style=\"text-align: right;\">\n",
       "      <th></th>\n",
       "      <th>Name</th>\n",
       "      <th>Age</th>\n",
       "      <th>Gender</th>\n",
       "    </tr>\n",
       "  </thead>\n",
       "  <tbody>\n",
       "    <tr>\n",
       "      <th>0</th>\n",
       "      <td>Shailove</td>\n",
       "      <td>22</td>\n",
       "      <td>Male</td>\n",
       "    </tr>\n",
       "    <tr>\n",
       "      <th>1</th>\n",
       "      <td>yash</td>\n",
       "      <td>50</td>\n",
       "      <td>Homo</td>\n",
       "    </tr>\n",
       "    <tr>\n",
       "      <th>2</th>\n",
       "      <td>Prajwal</td>\n",
       "      <td>70</td>\n",
       "      <td>Female</td>\n",
       "    </tr>\n",
       "  </tbody>\n",
       "</table>\n",
       "</div>"
      ],
      "text/plain": [
       "       Name Age  Gender\n",
       "0  Shailove  22    Male\n",
       "1      yash  50    Homo\n",
       "2   Prajwal  70  Female"
      ]
     },
     "execution_count": 28,
     "metadata": {},
     "output_type": "execute_result"
    }
   ],
   "source": [
    "df"
   ]
  },
  {
   "cell_type": "code",
   "execution_count": null,
   "id": "6f370693-410e-45f2-ab9f-a3d408889b85",
   "metadata": {},
   "outputs": [],
   "source": []
  }
 ],
 "metadata": {
  "kernelspec": {
   "display_name": "Python 3 (ipykernel)",
   "language": "python",
   "name": "python3"
  },
  "language_info": {
   "codemirror_mode": {
    "name": "ipython",
    "version": 3
   },
   "file_extension": ".py",
   "mimetype": "text/x-python",
   "name": "python",
   "nbconvert_exporter": "python",
   "pygments_lexer": "ipython3",
   "version": "3.10.8"
  }
 },
 "nbformat": 4,
 "nbformat_minor": 5
}
